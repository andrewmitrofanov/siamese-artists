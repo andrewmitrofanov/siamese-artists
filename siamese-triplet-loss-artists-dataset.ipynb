{
 "cells": [
  {
   "cell_type": "code",
   "execution_count": 1,
   "metadata": {},
   "outputs": [],
   "source": [
    "import numpy as np\n",
    "import matplotlib\n",
    "import matplotlib.pyplot as plt\n",
    "from PIL import Image\n",
    "\n",
    "import torch\n",
    "import torch.optim as optim\n",
    "import torch.nn as nn\n",
    "import torch.nn.functional as F\n",
    "from torch import Tensor\n",
    "import os\n",
    "from torch.optim import lr_scheduler\n",
    "from torch.autograd import Variable\n",
    "from torchvision import datasets, models, transforms\n",
    "from torchvision.datasets import MNIST\n",
    "from torchvision import transforms\n",
    "from torch.utils.data import Dataset\n",
    "from torch.utils.data.sampler import BatchSampler\n",
    "from torchvision.transforms import ToTensor\n",
    "\n",
    "from sklearn.neighbors import KNeighborsClassifier\n",
    "import sklearn\n",
    "from sklearn.metrics import confusion_matrix\n",
    "\n",
    "import pretrainedmodels\n",
    "\n",
    "from utils import AllTripletSelector,\\\n",
    "                  HardestNegativeTripletSelector,\\\n",
    "                  RandomNegativeTripletSelector,\\\n",
    "                  SemihardNegativeTripletSelector\n",
    "\n",
    "\n",
    "cuda = torch.cuda.is_available()\n",
    "%matplotlib inline"
   ]
  },
  {
   "cell_type": "code",
   "execution_count": 2,
   "metadata": {},
   "outputs": [],
   "source": [
    "global_seed = 29\n",
    "np.random.seed(global_seed)\n",
    "torch.manual_seed(global_seed)\n",
    "torch.backends.cudnn.deterministic = True\n",
    "if torch.cuda.is_available():\n",
    "    torch.cuda.manual_seed(global_seed)\n",
    "    torch.cuda.manual_seed_all(global_seed)"
   ]
  },
  {
   "cell_type": "code",
   "execution_count": 3,
   "metadata": {},
   "outputs": [],
   "source": [
    "all_losses = {'train': [], 'val': []}"
   ]
  },
  {
   "cell_type": "code",
   "execution_count": 4,
   "metadata": {},
   "outputs": [],
   "source": [
    "def fit(train_loader, val_loader, model, loss_fn, optimizer, scheduler, n_epochs, cuda, log_interval, metrics=[],\n",
    "        start_epoch=0):\n",
    "    \"\"\"\n",
    "    Loaders, model, loss function and metrics should work together for a given task,\n",
    "    i.e. The model should be able to process data output of loaders,\n",
    "    loss function should process target output of loaders and outputs from the model\n",
    "\n",
    "    Examples: Classification: batch loader, classification model, NLL loss, accuracy metric\n",
    "    Siamese network: Siamese loader, siamese model, contrastive loss\n",
    "    Online triplet learning: batch loader, embedding model, online triplet loss\n",
    "    \"\"\"\n",
    "    for epoch in range(0, start_epoch):\n",
    "        scheduler.step()\n",
    "\n",
    "    print('Триплет лосс (реализация из pytorch)')\n",
    "    for epoch in range(start_epoch, n_epochs):\n",
    "        scheduler.step()\n",
    "\n",
    "        train_loss, metrics = train_epoch(train_loader, model, loss_fn, optimizer, cuda, log_interval, metrics)    \n",
    "        val_loss, metrics = test_epoch(val_loader, model, loss_fn, cuda, metrics)\n",
    "        val_loss /= len(val_loader)\n",
    "        \n",
    "        all_losses['train'].append(train_loss)\n",
    "        all_losses['val'].append(val_loss)\n",
    "        \n",
    "        message = 'Эпоха: {}/{}. '.format(epoch + 1, n_epochs)\n",
    "        message += 'Тренировочное множество: {:.4f} Валидационное множество: {:.4f}'.format(train_loss, val_loss)\n",
    "        \n",
    "#         for metric in metrics:\n",
    "#             message += '\\t{}: {}'.format(metric.name(), metric.value())\n",
    "#         for metric in metrics:\n",
    "#             message += '\\t{}: {}'.format(metric.name(), metric.value())\n",
    "\n",
    "        print(message)\n",
    "\n",
    "\n",
    "def train_epoch(train_loader, model, loss_fn, optimizer, cuda, log_interval, metrics):\n",
    "    for metric in metrics:\n",
    "        metric.reset()\n",
    "\n",
    "    model.train()\n",
    "    losses = []\n",
    "    total_loss = 0\n",
    "\n",
    "    for batch_idx, (data, target) in enumerate(train_loader):\n",
    "        target = target if len(target) > 0 else None\n",
    "        if not type(data) in (tuple, list):\n",
    "            data = (data,)\n",
    "        if cuda:\n",
    "            data = tuple(d.cuda() for d in data)\n",
    "            if target is not None:\n",
    "                target = target.cuda()\n",
    "\n",
    "\n",
    "        optimizer.zero_grad()\n",
    "        outputs = model(*data)\n",
    "\n",
    "        if type(outputs) not in (tuple, list):\n",
    "            outputs = (outputs,)\n",
    "\n",
    "        loss_inputs = outputs\n",
    "        if target is not None:\n",
    "            target = (target,)\n",
    "            loss_inputs += target\n",
    "\n",
    "        loss_outputs = loss_fn(*loss_inputs)\n",
    "#         print(loss_outputs.item())\n",
    "        loss = loss_outputs[0] if type(loss_outputs) in (tuple, list) else loss_outputs\n",
    "        losses.append(loss.item())\n",
    "        total_loss += loss.item()\n",
    "        loss.backward()\n",
    "        optimizer.step()\n",
    "\n",
    "        for metric in metrics:\n",
    "            metric(outputs, target, loss_outputs)\n",
    "\n",
    "        if batch_idx % log_interval == 0:\n",
    "            message = 'Train: [{}/{} ({:.0f}%)]\\tLoss: {:.6f}'.format(\n",
    "                batch_idx * len(data[0]), len(train_loader.dataset),\n",
    "                100. * batch_idx / len(train_loader), np.mean(losses))\n",
    "            for metric in metrics:\n",
    "                message += '\\t{}: {}'.format(metric.name(), metric.value())\n",
    "####################################\n",
    "#             print(message)\n",
    "####################################\n",
    "            losses = []\n",
    "\n",
    "    total_loss /= (batch_idx + 1)\n",
    "    return total_loss, metrics\n",
    "\n",
    "\n",
    "def test_epoch(val_loader, model, loss_fn, cuda, metrics):\n",
    "    with torch.no_grad():\n",
    "        for metric in metrics:\n",
    "            metric.reset()\n",
    "        model.eval()\n",
    "        val_loss = 0\n",
    "        for batch_idx, (data, target) in enumerate(val_loader):\n",
    "            target = target if len(target) > 0 else None\n",
    "            if not type(data) in (tuple, list):\n",
    "                data = (data,)\n",
    "            if cuda:\n",
    "                data = tuple(d.cuda() for d in data)\n",
    "                if target is not None:\n",
    "                    target = target.cuda()\n",
    "\n",
    "            outputs = model(*data)\n",
    "\n",
    "            if type(outputs) not in (tuple, list):\n",
    "                outputs = (outputs,)\n",
    "            loss_inputs = outputs\n",
    "            if target is not None:\n",
    "                target = (target,)\n",
    "                loss_inputs += target\n",
    "\n",
    "            loss_outputs = loss_fn(*loss_inputs)\n",
    "            loss = loss_outputs[0] if type(loss_outputs) in (tuple, list) else loss_outputs\n",
    "            val_loss += loss.item()\n",
    "\n",
    "            for metric in metrics:\n",
    "                metric(outputs, target, loss_outputs)\n",
    "\n",
    "    return val_loss, metrics\n",
    "\n",
    "def plot_confusion_matrix(cm, classes,\n",
    "                          normalize=False,\n",
    "                          title='Confusion matrix',\n",
    "                          cmap=plt.cm.Blues):\n",
    "    \"\"\"\n",
    "    This function prints and plots the confusion matrix.\n",
    "    Normalization can be applied by setting `normalize=True`.\n",
    "    \"\"\"\n",
    "    plt.imshow(cm, interpolation='nearest', cmap=cmap)\n",
    "    plt.title(title)\n",
    "    plt.colorbar()\n",
    "    tick_marks = np.arange(len(classes))\n",
    "    plt.xticks(tick_marks, classes, rotation=45)\n",
    "    plt.yticks(tick_marks, classes)\n",
    "\n",
    "    if normalize:\n",
    "        cm = cm.astype('float') / cm.sum(axis=1)[:, np.newaxis]\n",
    "        print(\"Normalized confusion matrix\")\n",
    "    else:\n",
    "        print('Confusion matrix, without normalization')\n",
    "\n",
    "    plt.tight_layout()\n",
    "    plt.ylabel('True label')\n",
    "    plt.xlabel('Predicted label')"
   ]
  },
  {
   "cell_type": "code",
   "execution_count": 5,
   "metadata": {},
   "outputs": [],
   "source": [
    "class OnlineTripletLoss(nn.Module):\n",
    "    \"\"\"\n",
    "    Online Triplets loss\n",
    "    Takes a batch of embeddings and corresponding labels.\n",
    "    Triplets are generated using triplet_selector object that take embeddings and targets and return indices of\n",
    "    triplets\n",
    "    \"\"\"\n",
    "\n",
    "    def __init__(self, margin, triplet_selector):\n",
    "        super(OnlineTripletLoss, self).__init__()\n",
    "        self.margin = margin\n",
    "        self.triplet_selector = triplet_selector\n",
    "\n",
    "    def forward(self, embeddings, target):\n",
    "\n",
    "        triplets = self.triplet_selector.get_triplets(embeddings, target)\n",
    "\n",
    "        if embeddings.is_cuda:\n",
    "            triplets = triplets.cuda()\n",
    "            \n",
    "        # Вызывать с параметрами (a, p, n)\n",
    "        triplet_loss = nn.TripletMarginLoss(margin=1.0, p=2.0, reduction='none')\n",
    "        # a p n\n",
    "        a = embeddings[triplets[:, 0]]\n",
    "        p = embeddings[triplets[:, 1]]\n",
    "        n = embeddings[triplets[:, 2]]\n",
    "        \n",
    "        losses = triplet_loss(a, p, n) #print(losses.shape)\n",
    "        \n",
    "        return losses.mean(), len(triplets)"
   ]
  },
  {
   "cell_type": "code",
   "execution_count": 6,
   "metadata": {},
   "outputs": [],
   "source": [
    "class EmbeddingNet(nn.Module):\n",
    "    def __init__(self):\n",
    "        super(EmbeddingNet, self).__init__()\n",
    "        # Conv2d(in_channels, out_channels, kernel_size)\n",
    "        self.convnet = models.resnet101(pretrained=True)\n",
    "        num_ftrs = self.convnet.fc.in_features\n",
    "        print('Размерность вектора на выходе свёрточной части сети: ' + str(num_ftrs))\n",
    "        \n",
    "        self.convnet.fc = nn.Sequential(nn.Linear(num_ftrs, 128),\n",
    "                                        nn.Tanh()\n",
    "                                        )\n",
    "        \n",
    "        for param in self.convnet.parameters():\n",
    "            param.requires_grad = False\n",
    "        for param in self.convnet.layer4[0].parameters():\n",
    "            param.requires_grad = True\n",
    "        for param in self.convnet.layer4[1].parameters():\n",
    "            param.requires_grad = True\n",
    "        for param in self.convnet.layer4[2].parameters():\n",
    "            param.requires_grad = True\n",
    "        for param in self.convnet.avgpool.parameters():\n",
    "            param.requires_grad = True\n",
    "        for param in self.convnet.fc.parameters():\n",
    "            param.requires_grad = True\n",
    "\n",
    "    def forward(self, x):\n",
    "        return self.convnet(x) # 4x2\n",
    "\n",
    "    def get_embedding(self, x):\n",
    "        return self.forward(x)\n",
    "    \n",
    "class TripletNet(nn.Module):\n",
    "    def __init__(self, embedding_net):\n",
    "        super(TripletNet, self).__init__()\n",
    "        self.embedding_net = embedding_net\n",
    "\n",
    "    def forward(self, x1, x2, x3):\n",
    "        output1 = self.embedding_net(x1)\n",
    "        output2 = self.embedding_net(x2)\n",
    "        output3 = self.embedding_net(x3)\n",
    "        return output1, output2, output3\n",
    "\n",
    "    def get_embedding(self, x):\n",
    "        return self.embedding_net(x)"
   ]
  },
  {
   "cell_type": "code",
   "execution_count": 7,
   "metadata": {},
   "outputs": [],
   "source": [
    "class SimpleDataset(Dataset):\n",
    "    def __init__(self, dataset):\n",
    "        self.dataset = dataset\n",
    "        self.transforms = self.dataset.transform\n",
    "        self.imgs_info = self.dataset.imgs\n",
    "        self.labels = [x[1] for x in self.imgs_info]\n",
    "        \n",
    "    def get_image_by_index(self, index):\n",
    "        path = self.imgs_info[index][0]\n",
    "        img = Image.open(path).convert('RGB')\n",
    "\n",
    "        return img\n",
    "\n",
    "    def __getitem__(self, index):\n",
    "        label = self.labels[index]\n",
    "        img = self.get_image_by_index(index)\n",
    "        img = self.transforms(img)\n",
    "\n",
    "        return img, label\n",
    "\n",
    "    def __len__(self):\n",
    "        return len(self.imgs_info)"
   ]
  },
  {
   "cell_type": "code",
   "execution_count": 8,
   "metadata": {},
   "outputs": [],
   "source": [
    "class BalancedBatchSampler(BatchSampler):\n",
    "    \"\"\"\n",
    "    BatchSampler - from a MNIST-like dataset, samples n_classes and within these classes samples n_samples.\n",
    "    Returns batches of size n_classes * n_samples\n",
    "    \"\"\"\n",
    "\n",
    "    def __init__(self, dataset, n_classes, n_samples):\n",
    "        self.dataset = dataset\n",
    "        self.imgs_info = self.dataset.imgs\n",
    "        self.labels = [x[1] for x in self.imgs_info]\n",
    "        self.labels_set = set(list(self.dataset.class_to_idx.values()))\n",
    "        self.label_to_indices = {label: np.where(np.array(self.labels) == label)[0]\n",
    "                                     for label in self.labels_set}\n",
    "        for l in self.labels_set:\n",
    "            np.random.shuffle(self.label_to_indices[l])\n",
    "        self.used_label_indices_count = {label: 0 for label in self.labels_set}\n",
    "        self.count = 0\n",
    "        self.n_classes = n_classes\n",
    "        self.n_samples = n_samples\n",
    "        self.n_dataset = len(self.labels)\n",
    "        self.batch_size = self.n_samples * self.n_classes\n",
    "\n",
    "    def __iter__(self):\n",
    "        self.count = 0\n",
    "        while self.count + self.batch_size < self.n_dataset:\n",
    "            classes = np.random.choice(list(self.labels_set), self.n_classes, replace=False)\n",
    "            indices = []\n",
    "            for class_ in classes:\n",
    "                indices.extend(self.label_to_indices[class_][\n",
    "                               self.used_label_indices_count[class_]:self.used_label_indices_count[\n",
    "                                                                         class_] + self.n_samples])\n",
    "                self.used_label_indices_count[class_] += self.n_samples\n",
    "                if self.used_label_indices_count[class_] + self.n_samples > len(self.label_to_indices[class_]):\n",
    "                    np.random.shuffle(self.label_to_indices[class_])\n",
    "                    self.used_label_indices_count[class_] = 0\n",
    "            yield indices\n",
    "            self.count += self.n_classes * self.n_samples\n",
    "\n",
    "    def __len__(self):\n",
    "        return self.n_dataset // self.batch_size"
   ]
  },
  {
   "cell_type": "code",
   "execution_count": 9,
   "metadata": {},
   "outputs": [],
   "source": [
    "mean, std = 0.5, 0.5\n",
    "\n",
    "def train_aug():\n",
    "    return transforms.Compose([\n",
    "        transforms.RandomRotation(30),\n",
    "        transforms.RandomHorizontalFlip(),\n",
    "        transforms.RandomVerticalFlip(),\n",
    "        transforms.RandomResizedCrop(224),\n",
    "        transforms.ToTensor(),\n",
    "        transforms.Normalize((mean,), (std,))\n",
    "    ])\n",
    "\n",
    "def test_aug():\n",
    "    return transforms.Compose([\n",
    "        transforms.Resize(256),\n",
    "        transforms.CenterCrop(224),\n",
    "        transforms.ToTensor(),\n",
    "        transforms.Normalize((mean,), (std,))\n",
    "    ])"
   ]
  },
  {
   "cell_type": "code",
   "execution_count": 10,
   "metadata": {},
   "outputs": [],
   "source": [
    "data_dir = './artists-prepared/'"
   ]
  },
  {
   "cell_type": "code",
   "execution_count": 11,
   "metadata": {
    "scrolled": false
   },
   "outputs": [],
   "source": [
    "batch_size = 256\n",
    "kwargs = {'num_workers': 6, 'pin_memory': True} if cuda else {}\n",
    "\n",
    "train_dataset = datasets.ImageFolder(os.path.join(data_dir, 'train'), train_aug())\n",
    "val_dataset   = datasets.ImageFolder(os.path.join(data_dir, 'val'), test_aug())\n",
    "test_dataset  = datasets.ImageFolder(os.path.join(data_dir, 'test'), test_aug())\n",
    "\n",
    "simple_train_dataset = SimpleDataset(train_dataset)\n",
    "simple_val_dataset   = SimpleDataset(val_dataset)\n",
    "simple_test_dataset  = SimpleDataset(test_dataset)\n",
    "\n",
    "simple_train_loader = torch.utils.data.DataLoader(simple_train_dataset, batch_size=batch_size, shuffle=True, **kwargs)\n",
    "simple_val_loader   = torch.utils.data.DataLoader(simple_val_dataset, batch_size=batch_size, shuffle=True, **kwargs)\n",
    "simple_test_loader  = torch.utils.data.DataLoader(simple_test_dataset, batch_size=batch_size, shuffle=True, **kwargs)\n",
    "\n",
    "train_batch_sampler = BalancedBatchSampler(dataset=train_dataset, n_classes=8, n_samples=16)\n",
    "val_batch_sampler   = BalancedBatchSampler(dataset=val_dataset, n_classes=8, n_samples=16)\n",
    "\n",
    "online_train_loader = torch.utils.data.DataLoader(simple_train_dataset, batch_sampler=train_batch_sampler, **kwargs)\n",
    "online_val_loader   = torch.utils.data.DataLoader(simple_val_dataset, batch_sampler=val_batch_sampler, **kwargs)"
   ]
  },
  {
   "cell_type": "code",
   "execution_count": 12,
   "metadata": {},
   "outputs": [
    {
     "name": "stdout",
     "output_type": "stream",
     "text": [
      "Размерность вектора на выходе свёрточной части сети: 2048\n"
     ]
    }
   ],
   "source": [
    "margin = 1.\n",
    "model = EmbeddingNet()\n",
    "if cuda:\n",
    "    model.cuda()\n",
    "loss_fn = OnlineTripletLoss(margin, AllTripletSelector())\n",
    "lr = 5*1e-4\n",
    "optimizer = optim.Adam(model.parameters(), lr=lr)\n",
    "scheduler = lr_scheduler.StepLR(optimizer, 10, gamma=0.2)\n",
    "n_epochs = 30\n",
    "log_interval = 10000"
   ]
  },
  {
   "cell_type": "code",
   "execution_count": 13,
   "metadata": {},
   "outputs": [],
   "source": [
    "# model.load_state_dict(torch.load('059.pth'))"
   ]
  },
  {
   "cell_type": "code",
   "execution_count": 14,
   "metadata": {
    "scrolled": false
   },
   "outputs": [
    {
     "name": "stdout",
     "output_type": "stream",
     "text": [
      "Триплет лосс (реализация из pytorch)\n",
      "Эпоха: 1/30. Тренировочное множество: 0.5763 Валидационное множество: 0.3571\n",
      "Эпоха: 2/30. Тренировочное множество: 0.4053 Валидационное множество: 0.3398\n",
      "Эпоха: 3/30. Тренировочное множество: 0.3643 Валидационное множество: 0.3009\n",
      "Эпоха: 4/30. Тренировочное множество: 0.3254 Валидационное множество: 0.2794\n",
      "Эпоха: 5/30. Тренировочное множество: 0.2792 Валидационное множество: 0.2749\n",
      "Эпоха: 6/30. Тренировочное множество: 0.2604 Валидационное множество: 0.2355\n",
      "Эпоха: 7/30. Тренировочное множество: 0.2246 Валидационное множество: 0.2489\n",
      "Эпоха: 8/30. Тренировочное множество: 0.2233 Валидационное множество: 0.2768\n",
      "Эпоха: 9/30. Тренировочное множество: 0.1982 Валидационное множество: 0.2517\n",
      "Эпоха: 10/30. Тренировочное множество: 0.1930 Валидационное множество: 0.2427\n",
      "Эпоха: 11/30. Тренировочное множество: 0.1677 Валидационное множество: 0.1971\n",
      "Эпоха: 12/30. Тренировочное множество: 0.1482 Валидационное множество: 0.1864\n",
      "Эпоха: 13/30. Тренировочное множество: 0.1315 Валидационное множество: 0.1575\n",
      "Эпоха: 14/30. Тренировочное множество: 0.1361 Валидационное множество: 0.1911\n",
      "Эпоха: 15/30. Тренировочное множество: 0.1330 Валидационное множество: 0.1724\n",
      "Эпоха: 16/30. Тренировочное множество: 0.1150 Валидационное множество: 0.1933\n",
      "Эпоха: 17/30. Тренировочное множество: 0.1182 Валидационное множество: 0.1729\n",
      "Эпоха: 18/30. Тренировочное множество: 0.1233 Валидационное множество: 0.1520\n",
      "Эпоха: 19/30. Тренировочное множество: 0.1119 Валидационное множество: 0.1841\n",
      "Эпоха: 20/30. Тренировочное множество: 0.1116 Валидационное множество: 0.1937\n",
      "Эпоха: 21/30. Тренировочное множество: 0.0977 Валидационное множество: 0.1415\n",
      "Эпоха: 22/30. Тренировочное множество: 0.0848 Валидационное множество: 0.1794\n",
      "Эпоха: 23/30. Тренировочное множество: 0.0932 Валидационное множество: 0.1430\n",
      "Эпоха: 24/30. Тренировочное множество: 0.1007 Валидационное множество: 0.1685\n",
      "Эпоха: 25/30. Тренировочное множество: 0.1037 Валидационное множество: 0.1539\n",
      "Эпоха: 26/30. Тренировочное множество: 0.0941 Валидационное множество: 0.1377\n",
      "Эпоха: 27/30. Тренировочное множество: 0.0956 Валидационное множество: 0.1628\n",
      "Эпоха: 28/30. Тренировочное множество: 0.0821 Валидационное множество: 0.1614\n",
      "Эпоха: 29/30. Тренировочное множество: 0.0882 Валидационное множество: 0.1484\n",
      "Эпоха: 30/30. Тренировочное множество: 0.0861 Валидационное множество: 0.1560\n",
      "CPU times: user 23min 54s, sys: 8min 16s, total: 32min 11s\n",
      "Wall time: 32min 2s\n"
     ]
    }
   ],
   "source": [
    "%%time\n",
    "fit(online_train_loader, online_val_loader, model, loss_fn, optimizer, scheduler, n_epochs, cuda, log_interval)"
   ]
  },
  {
   "cell_type": "code",
   "execution_count": 15,
   "metadata": {},
   "outputs": [],
   "source": [
    "torch.save(model.state_dict(), '059.pth')"
   ]
  },
  {
   "cell_type": "code",
   "execution_count": 16,
   "metadata": {},
   "outputs": [
    {
     "data": {
      "text/plain": [
       "[<matplotlib.lines.Line2D at 0x7faa46d2d240>]"
      ]
     },
     "execution_count": 16,
     "metadata": {},
     "output_type": "execute_result"
    },
    {
     "data": {
      "image/png": "[encoded data removed]",
      "text/plain": [
       "<Figure size 432x288 with 1 Axes>"
      ]
     },
     "metadata": {
      "needs_background": "light"
     },
     "output_type": "display_data"
    }
   ],
   "source": [
    "plt.plot(all_losses['train'][0:])\n",
    "plt.plot(all_losses['val'][0:])"
   ]
  },
  {
   "cell_type": "code",
   "execution_count": 17,
   "metadata": {},
   "outputs": [],
   "source": [
    "def plot_embeddings(embeddings, targets, xlim=None, ylim=None):\n",
    "    plt.figure(figsize=(10,10))\n",
    "    for i in range(10):\n",
    "        inds = np.where(targets==i)[0]\n",
    "        plt.scatter(embeddings[inds,0], embeddings[inds,1], alpha=0.5, color=colors[i])\n",
    "    if xlim:\n",
    "        plt.xlim(xlim[0], xlim[1])\n",
    "    if ylim:\n",
    "        plt.ylim(ylim[0], ylim[1])\n",
    "    plt.legend(mnist_classes)\n",
    "\n",
    "def extract_embeddings(dataloader, model):\n",
    "    with torch.no_grad():\n",
    "        model.eval()\n",
    "        embeddings = np.zeros((len(dataloader.dataset), 128))\n",
    "        labels = np.zeros(len(dataloader.dataset))\n",
    "        k = 0\n",
    "        for images, target in dataloader:\n",
    "            if cuda:\n",
    "                images = images.cuda()\n",
    "            embeddings[k:k+len(images)] = model.get_embedding(images).data.cpu().numpy()\n",
    "            labels[k:k+len(images)] = target.numpy()\n",
    "            k += len(images)\n",
    "    return embeddings, labels"
   ]
  },
  {
   "cell_type": "code",
   "execution_count": 18,
   "metadata": {
    "scrolled": false
   },
   "outputs": [],
   "source": [
    "# numpy.ndarray\n",
    "train_embeddings, train_labels = extract_embeddings(simple_train_loader, model)\n",
    "val_embeddings, val_labels     = extract_embeddings(simple_val_loader, model)\n",
    "test_embeddings, test_labels   = extract_embeddings(simple_test_loader, model)"
   ]
  },
  {
   "cell_type": "code",
   "execution_count": 19,
   "metadata": {},
   "outputs": [
    {
     "name": "stdout",
     "output_type": "stream",
     "text": [
      "7136\n",
      "1823\n",
      "27\n"
     ]
    }
   ],
   "source": [
    "print(len(train_labels))\n",
    "print(len(val_labels))\n",
    "print(len(test_labels))"
   ]
  },
  {
   "cell_type": "code",
   "execution_count": 21,
   "metadata": {},
   "outputs": [
    {
     "data": {
      "text/plain": [
       "KNeighborsClassifier(algorithm='auto', leaf_size=30, metric='minkowski',\n",
       "           metric_params=None, n_jobs=None, n_neighbors=40, p=2,\n",
       "           weights='uniform')"
      ]
     },
     "execution_count": 21,
     "metadata": {},
     "output_type": "execute_result"
    }
   ],
   "source": [
    "knn_model = KNeighborsClassifier(n_neighbors=40)\n",
    "knn_model.fit(train_embeddings, train_labels)"
   ]
  },
  {
   "cell_type": "code",
   "execution_count": 22,
   "metadata": {},
   "outputs": [
    {
     "data": {
      "text/plain": [
       "0.7334064728469556"
      ]
     },
     "execution_count": 22,
     "metadata": {},
     "output_type": "execute_result"
    }
   ],
   "source": [
    "predicted_val = knn_model.predict(val_embeddings)\n",
    "sklearn.metrics.accuracy_score(val_labels, predicted_val, normalize=True, sample_weight=None)"
   ]
  },
  {
   "cell_type": "code",
   "execution_count": 24,
   "metadata": {},
   "outputs": [
    {
     "name": "stdout",
     "output_type": "stream",
     "text": [
      "Confusion matrix, without normalization\n"
     ]
    },
    {
     "data": {
      "image/png": "[encoded data removed]",
      "text/plain": [
       "<Figure size 1080x720 with 2 Axes>"
      ]
     },
     "metadata": {
      "needs_background": "light"
     },
     "output_type": "display_data"
    }
   ],
   "source": [
    "font = {'size' : 15}\n",
    "plt.rc('font', **font)\n",
    "\n",
    "cnf_matrix = confusion_matrix(val_labels, predicted_val)\n",
    "plt.figure(figsize=(15, 10))\n",
    "plot_confusion_matrix(cnf_matrix, classes=[i for i in range(0, 30)], title='Confusion matrix')\n",
    "plt.show()"
   ]
  },
  {
   "cell_type": "markdown",
   "metadata": {},
   "source": [
    "## Применяем подход к тестовому множеству"
   ]
  },
  {
   "cell_type": "code",
   "execution_count": 25,
   "metadata": {},
   "outputs": [
    {
     "data": {
      "text/plain": [
       "array([0., 0., 0., 0., 0., 0., 0., 0., 0., 0., 0., 0., 0., 0., 0., 0., 0.,\n",
       "       0., 0., 0., 0., 0., 0., 0., 0., 0., 0.])"
      ]
     },
     "execution_count": 25,
     "metadata": {},
     "output_type": "execute_result"
    }
   ],
   "source": [
    "test_labels"
   ]
  },
  {
   "cell_type": "code",
   "execution_count": 26,
   "metadata": {},
   "outputs": [
    {
     "data": {
      "text/plain": [
       "[31,\n",
       " 31,\n",
       " 31,\n",
       " 31,\n",
       " 31,\n",
       " 31,\n",
       " 31,\n",
       " 31,\n",
       " 31,\n",
       " 31,\n",
       " 31,\n",
       " 31,\n",
       " 31,\n",
       " 31,\n",
       " 31,\n",
       " 31,\n",
       " 31,\n",
       " 31,\n",
       " 31,\n",
       " 31,\n",
       " 31,\n",
       " 31,\n",
       " 31,\n",
       " 31,\n",
       " 31,\n",
       " 31,\n",
       " 31]"
      ]
     },
     "execution_count": 26,
     "metadata": {},
     "output_type": "execute_result"
    }
   ],
   "source": [
    "test_labels_changed = [31 if 0==x else 999 for x in test_labels]\n",
    "test_labels_changed"
   ]
  },
  {
   "cell_type": "code",
   "execution_count": 61,
   "metadata": {},
   "outputs": [
    {
     "data": {
      "text/plain": [
       "array([ 0.,  1.,  2.,  3.,  4.,  5.,  6.,  7.,  8.,  9., 10., 11., 12.,\n",
       "       13., 14., 15., 16., 17., 18., 19., 20., 21., 22., 23., 24., 25.,\n",
       "       26., 27., 28., 29., 31.])"
      ]
     },
     "execution_count": 61,
     "metadata": {},
     "output_type": "execute_result"
    }
   ],
   "source": [
    "train_and_val_labels = np.append(train_labels, val_labels)\n",
    "train_val_test_labels = np.append(train_and_val_labels, test_labels_changed[0:17])\n",
    "np.unique(train_val_test_labels)"
   ]
  },
  {
   "cell_type": "code",
   "execution_count": 62,
   "metadata": {},
   "outputs": [
    {
     "data": {
      "text/plain": [
       "array([[ 0.79582614,  0.96188056, -0.80844522, ..., -0.68490559,\n",
       "         0.97080493, -0.85099959],\n",
       "       [ 0.98309296,  0.98517531,  0.18030128, ..., -0.83475673,\n",
       "         0.98855466, -0.96835673],\n",
       "       [ 0.77342772,  0.96110833, -0.9703384 , ..., -0.85027468,\n",
       "         0.97544253, -0.92909449],\n",
       "       ...,\n",
       "       [ 0.93896079,  0.99211562, -0.64723146, ..., -0.85090059,\n",
       "         0.97309756, -0.82820147],\n",
       "       [ 0.97429407,  0.99792302, -0.22154392, ..., -0.95297611,\n",
       "         0.98886496, -0.92894441],\n",
       "       [ 0.95690864,  0.99797946, -0.52380472, ..., -0.93178529,\n",
       "         0.99174106, -0.93266588]])"
      ]
     },
     "execution_count": 62,
     "metadata": {},
     "output_type": "execute_result"
    }
   ],
   "source": [
    "train_and_val_embeddings  = np.append(train_embeddings, val_embeddings,0)\n",
    "train_val_test_embeddings = np.append(train_and_val_embeddings, test_embeddings[0:17],0)\n",
    "train_val_test_embeddings"
   ]
  },
  {
   "cell_type": "code",
   "execution_count": 63,
   "metadata": {},
   "outputs": [
    {
     "data": {
      "text/plain": [
       "KNeighborsClassifier(algorithm='auto', leaf_size=30, metric='minkowski',\n",
       "           metric_params=None, n_jobs=None, n_neighbors=1, p=2,\n",
       "           weights='uniform')"
      ]
     },
     "execution_count": 63,
     "metadata": {},
     "output_type": "execute_result"
    }
   ],
   "source": [
    "knn_model = KNeighborsClassifier(n_neighbors=1)\n",
    "knn_model.fit(train_val_test_embeddings, train_val_test_labels)"
   ]
  },
  {
   "cell_type": "code",
   "execution_count": 64,
   "metadata": {},
   "outputs": [
    {
     "data": {
      "text/plain": [
       "0.5"
      ]
     },
     "execution_count": 64,
     "metadata": {},
     "output_type": "execute_result"
    }
   ],
   "source": [
    "predicted_test = knn_model.predict(test_embeddings[17:])\n",
    "sklearn.metrics.f1_score(test_labels_changed[17:], predicted_test, average='micro')"
   ]
  },
  {
   "cell_type": "code",
   "execution_count": 65,
   "metadata": {},
   "outputs": [
    {
     "data": {
      "text/plain": [
       "array([31., 24., 22., 31., 31., 31., 24., 24., 22., 31.])"
      ]
     },
     "execution_count": 65,
     "metadata": {},
     "output_type": "execute_result"
    }
   ],
   "source": [
    "predicted_test"
   ]
  }
 ],
 "metadata": {
  "accelerator": "GPU",
  "colab": {
   "default_view": {},
   "name": "Experiments_MNIST.ipynb",
   "provenance": [],
   "version": "0.3.2",
   "views": {}
  },
  "kernelspec": {
   "display_name": "Python 3",
   "language": "python",
   "name": "python3"
  },
  "language_info": {
   "codemirror_mode": {
    "name": "ipython",
    "version": 3
   },
   "file_extension": ".py",
   "mimetype": "text/x-python",
   "name": "python",
   "nbconvert_exporter": "python",
   "pygments_lexer": "ipython3",
   "version": "3.6.8"
  }
 },
 "nbformat": 4,
 "nbformat_minor": 2
}
